{
 "cells": [
  {
   "cell_type": "markdown",
   "metadata": {},
   "source": [
    "**Задание 1**. Дан список с визитами по городам и странам. \n",
    "Напишите код, который возвращает отфильтрованный список geo_logs, содержащий только визиты из России."
   ]
  },
  {
   "cell_type": "code",
   "execution_count": 2,
   "metadata": {},
   "outputs": [],
   "source": [
    "geo_logs = [\n",
    "    {'visit1': ['Москва', 'Россия']},\n",
    "    {'visit2': ['Дели', 'Индия']},\n",
    "    {'visit3': ['Владимир', 'Россия']},\n",
    "    {'visit4': ['Лиссабон', 'Португалия']},\n",
    "    {'visit5': ['Париж', 'Франция']},\n",
    "    {'visit6': ['Лиссабон', 'Португалия']},\n",
    "    {'visit7': ['Тула', 'Россия']},\n",
    "    {'visit8': ['Тула', 'Россия']},\n",
    "    {'visit9': ['Курск', 'Россия']},\n",
    "    {'visit10': ['Архангельск', 'Россия']}\n",
    "]"
   ]
  },
  {
   "cell_type": "code",
   "execution_count": 5,
   "metadata": {},
   "outputs": [
    {
     "name": "stdout",
     "output_type": "stream",
     "text": [
      "{'visit1': ['Москва', 'Россия']}\n",
      "{'visit3': ['Владимир', 'Россия']}\n",
      "{'visit7': ['Тула', 'Россия']}\n",
      "{'visit8': ['Тула', 'Россия']}\n",
      "{'visit9': ['Курск', 'Россия']}\n",
      "{'visit10': ['Архангельск', 'Россия']}\n"
     ]
    }
   ],
   "source": [
    "for x in geo_logs:\n",
    "    if 'Россия' in list(x.values())[0]:\n",
    "        print(x)"
   ]
  },
  {
   "cell_type": "markdown",
   "metadata": {},
   "source": [
    "**Задание 2**. Выведите на экран все уникальные гео-ID из значений словаря ids. Т. е. список вида [213, 15, 54, 119, 98, 35]"
   ]
  },
  {
   "cell_type": "code",
   "execution_count": 46,
   "metadata": {},
   "outputs": [],
   "source": [
    "ids = {'user1': [213, 213, 213, 15, 213], \n",
    "       'user2': [54, 54, 119, 119, 119], \n",
    "       'user3': [213, 98, 98, 35]}"
   ]
  },
  {
   "cell_type": "code",
   "execution_count": 48,
   "metadata": {},
   "outputs": [
    {
     "data": {
      "text/plain": [
       "[213, 15, 54, 119, 98, 35]"
      ]
     },
     "execution_count": 48,
     "metadata": {},
     "output_type": "execute_result"
    }
   ],
   "source": [
    "unic_ids = []\n",
    "for i_list in ids.values():\n",
    "    for j in i_list:\n",
    "        if j not in unic_ids:\n",
    "            unic_ids.append(j)\n",
    "unic_ids"
   ]
  },
  {
   "cell_type": "markdown",
   "metadata": {},
   "source": [
    "**Задание 3**. Дан список поисковых запросов. Получить распределение количества слов в них. \n",
    "Т. е. поисковых запросов из одного - слова 5%, из двух - 7%, из трех - 3% и т.д."
   ]
  },
  {
   "cell_type": "code",
   "execution_count": 2,
   "metadata": {},
   "outputs": [],
   "source": [
    "queries = [\n",
    "    'смотреть сериалы онлайн',\n",
    "    'новости спорта',\n",
    "    'афиша кино',\n",
    "    'курс доллара',\n",
    "    'сериалы этим летом',\n",
    "    'курс по питону',\n",
    "    'сериалы про спорт',\n",
    "]"
   ]
  },
  {
   "cell_type": "code",
   "execution_count": 22,
   "metadata": {},
   "outputs": [
    {
     "name": "stdout",
     "output_type": "stream",
     "text": [
      "'Запросы из:' 2 'слов составляют: ' 42.86 '%'\n",
      "'Запросы из:' 3 'слов составляют: ' 57.14 '%'\n"
     ]
    }
   ],
   "source": [
    "i = 0\n",
    "qleng = len(queries)\n",
    "leng = []\n",
    "type_leng = []\n",
    "share = []\n",
    "w_num = []\n",
    "for words in queries:\n",
    "    num = words.split(' ')\n",
    "    leng.append(len(num))\n",
    "#print (leng)\n",
    "\n",
    "set_leng = set(leng)\n",
    "#print (set_leng)\n",
    "\n",
    "for el in set_leng:\n",
    "    w_num.append(el)\n",
    "#print(w_num)\n",
    "\n",
    "for el in set_leng:\n",
    "    type_leng.append(leng.count(el))\n",
    "#print(type_leng)\n",
    "\n",
    "for el in type_leng:\n",
    "    el = el / qleng * 100\n",
    "    share.append(round(el, 2))\n",
    "#print(share)\n",
    "\n",
    "share_types = {}\n",
    "#for el in w_num:\n",
    "    #share_types[i] = el\n",
    "    #i += 1\n",
    "#share_percent = {}\n",
    "#for el in share:\n",
    "#    share_percent[i] = e;\n",
    "#    i += 1\n",
    "#share_queries['words_number'] = w_num\n",
    "#share_queries['share'] = share\n",
    "#print(share_types)\n",
    "#print(share_percent)\n",
    "#for keys, values in share_types.items():\n",
    "   # print(values)\n",
    "#for keys, values in share_percent.items():\n",
    "   # print(values)\n",
    "#print(f\"'Число слов в запросе: ', {w_num}, 'Доля в поиске: ', {share, '%'} \")\n",
    "print (f\"'Запросы из:' {w_num[0]} 'слов составляют: ' {share[0]} '%'\" )\n",
    "print (f\"'Запросы из:' {w_num[1]} 'слов составляют: ' {share[1]} '%'\" )"
   ]
  },
  {
   "cell_type": "markdown",
   "metadata": {},
   "source": [
    "**Задание 4**. Дана статистика рекламных каналов по объемам продаж. Напишите скрипт, который возвращает название канала с максимальным объемом.\n",
    "Т. е. в данном примере скрипт должен возвращать 'yandex'."
   ]
  },
  {
   "cell_type": "code",
   "execution_count": 49,
   "metadata": {},
   "outputs": [
    {
     "data": {
      "text/plain": [
       "'yandex'"
      ]
     },
     "execution_count": 49,
     "metadata": {},
     "output_type": "execute_result"
    }
   ],
   "source": [
    "stats = {'facebook': 55, 'yandex': 120, 'vk': 115, 'google': 99, 'email': 42, 'ok': 98}\n",
    "max ([w for w in stats])"
   ]
  },
  {
   "cell_type": "markdown",
   "metadata": {},
   "source": [
    "**Задание 5**. Напишите код для преобразования произвольного списка вида ['2018-01-01', 'yandex', 'cpc', 100] (он может быть любой длины) в словарь {'2018-01-01': {'yandex': {'cpc': 100}}}"
   ]
  },
  {
   "cell_type": "code",
   "execution_count": 42,
   "metadata": {},
   "outputs": [
    {
     "name": "stdout",
     "output_type": "stream",
     "text": [
      "{'2018-0101': {'yandex': {'cpc': 100}}}\n"
     ]
    }
   ],
   "source": [
    "data = ['2018-0101', 'yandex', 'cpc', 100]\n",
    "\n",
    "d = {data[-2]:data[-1]}\n",
    "del (data[-1])\n",
    "del (data[-1])\n",
    "data.reverse ()\n",
    "for data_value in data:\n",
    "    d = {data_value:d}\n",
    "print (d)"
   ]
  }
 ],
 "metadata": {
  "kernelspec": {
   "display_name": "Python 3",
   "language": "python",
   "name": "python3"
  },
  "language_info": {
   "codemirror_mode": {
    "name": "ipython",
    "version": 3
   },
   "file_extension": ".py",
   "mimetype": "text/x-python",
   "name": "python",
   "nbconvert_exporter": "python",
   "pygments_lexer": "ipython3",
   "version": "3.7.6"
  }
 },
 "nbformat": 4,
 "nbformat_minor": 2
}
